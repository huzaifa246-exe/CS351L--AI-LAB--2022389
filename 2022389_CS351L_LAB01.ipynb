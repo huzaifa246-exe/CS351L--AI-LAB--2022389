{
  "nbformat": 4,
  "nbformat_minor": 0,
  "metadata": {
    "colab": {
      "provenance": []
    },
    "kernelspec": {
      "name": "python3",
      "display_name": "Python 3"
    },
    "language_info": {
      "name": "python"
    }
  },
  "cells": [
    {
      "cell_type": "markdown",
      "source": [
        "# **CS351 LAB1 TASK**\n",
        "##1. Depth-First Search (DFS)\n",
        "\n",
        "In this context, DFS is less typical but can be simulated by guessing sequentially from the current low value and adjusting bounds based on feedback.\n"
      ],
      "metadata": {
        "id": "THehle5IqwaW"
      }
    },
    {
      "cell_type": "code",
      "source": [
        "import random\n",
        "\n",
        "def dfs_guess_number(low, high):\n",
        "    attempts = 0\n",
        "    while low <= high:\n",
        "        guess = random.randint(low, high)  # Random guess within the current bounds\n",
        "        attempts += 1\n",
        "\n",
        "        print(f\"AI's guess is: {guess}\")\n",
        "        feedback = input(\"Enter 'h' if too high, 'l' if too low, or 'c' if correct: \").lower()\n",
        "\n",
        "        if feedback == 'c':\n",
        "            print(f\"I (AI) guessed the number in {attempts} attempts!\")\n",
        "            return\n",
        "        elif feedback == 'h':\n",
        "            high = guess - 1\n",
        "        elif feedback == 'l':\n",
        "            low = guess + 1\n",
        "\n",
        "    print(\"Something went wrong!\")\n",
        "\n",
        "def ai_number_guessing_game_dfs():\n",
        "    print(\"Think of a number between 1 and 100, and I (the AI) will try to guess it.\")\n",
        "    low = 1\n",
        "    high = 100\n",
        "    dfs_guess_number(low, high)\n",
        "\n",
        "# Call the function\n",
        "ai_number_guessing_game_dfs()\n"
      ],
      "metadata": {
        "colab": {
          "base_uri": "https://localhost:8080/"
        },
        "id": "QywkM00bw_UG",
        "outputId": "ab5fd16c-2cbd-4727-88f6-2c4e8f752a03"
      },
      "execution_count": 7,
      "outputs": [
        {
          "output_type": "stream",
          "name": "stdout",
          "text": [
            "Think of a number between 1 and 100, and I (the AI) will try to guess it.\n",
            "AI's guess is: 32\n",
            "Enter 'h' if too high, 'l' if too low, or 'c' if correct: h\n",
            "AI's guess is: 2\n",
            "Enter 'h' if too high, 'l' if too low, or 'c' if correct: l\n",
            "AI's guess is: 29\n",
            "Enter 'h' if too high, 'l' if too low, or 'c' if correct: h\n",
            "AI's guess is: 13\n",
            "Enter 'h' if too high, 'l' if too low, or 'c' if correct: l\n",
            "AI's guess is: 16\n",
            "Enter 'h' if too high, 'l' if too low, or 'c' if correct: l\n",
            "AI's guess is: 20\n",
            "Enter 'h' if too high, 'l' if too low, or 'c' if correct: l\n",
            "AI's guess is: 26\n",
            "Enter 'h' if too high, 'l' if too low, or 'c' if correct: h\n",
            "AI's guess is: 24\n",
            "Enter 'h' if too high, 'l' if too low, or 'c' if correct: h\n",
            "AI's guess is: 21\n",
            "Enter 'h' if too high, 'l' if too low, or 'c' if correct: l\n",
            "AI's guess is: 22\n",
            "Enter 'h' if too high, 'l' if too low, or 'c' if correct: c\n",
            "I (AI) guessed the number in 10 attempts!\n"
          ]
        }
      ]
    },
    {
      "cell_type": "markdown",
      "source": [
        "##2. Breadth-First Search (BFS)\n",
        "For BFS, we'll use a queue to explore possible guesses. This can be inefficient in practice for this problem but is conceptually interesting"
      ],
      "metadata": {
        "id": "2yloi5apyO91"
      }
    },
    {
      "cell_type": "code",
      "source": [
        "import random\n",
        "from collections import deque\n",
        "\n",
        "def bfs_guess_number(low, high):\n",
        "    attempts = 0\n",
        "    queue = deque([(low, high)])\n",
        "\n",
        "    while queue:\n",
        "        low, high = queue.popleft()\n",
        "        if low > high:\n",
        "            print(\"The number is not within the specified range. Something went wrong!\")\n",
        "            return\n",
        "\n",
        "        guess = random.randint(low, high)  # Random guess within the current bounds\n",
        "        attempts += 1\n",
        "\n",
        "        print(f\"AI's guess is: {guess}\")\n",
        "        feedback = input(\"Enter 'h' if too high, 'l' if too low, or 'c' if correct: \").lower()\n",
        "\n",
        "        if feedback == 'c':\n",
        "            print(f\"I (AI) guessed the number in {attempts} attempts!\")\n",
        "            return\n",
        "        elif feedback == 'h':\n",
        "            high = guess - 1\n",
        "            queue.append((low, high))\n",
        "        elif feedback == 'l':\n",
        "            low = guess + 1\n",
        "            queue.append((low, high))\n",
        "\n",
        "    print(\"Something went wrong!\")\n",
        "\n",
        "def ai_number_guessing_game_bfs():\n",
        "    print(\"Think of a number between 1 and 100, and I (the AI) will try to guess it.\")\n",
        "    low = 1\n",
        "    high = 100\n",
        "    bfs_guess_number(low, high)\n",
        "\n",
        "# Call the function\n",
        "ai_number_guessing_game_bfs()\n"
      ],
      "metadata": {
        "colab": {
          "base_uri": "https://localhost:8080/"
        },
        "id": "EgplNd6tyh_y",
        "outputId": "db1b38d9-7d28-410a-c4fe-b67886f17291"
      },
      "execution_count": 8,
      "outputs": [
        {
          "output_type": "stream",
          "name": "stdout",
          "text": [
            "Think of a number between 1 and 100, and I (the AI) will try to guess it.\n",
            "AI's guess is: 75\n",
            "Enter 'h' if too high, 'l' if too low, or 'c' if correct: h\n",
            "AI's guess is: 52\n",
            "Enter 'h' if too high, 'l' if too low, or 'c' if correct: h\n",
            "AI's guess is: 51\n",
            "Enter 'h' if too high, 'l' if too low, or 'c' if correct: h\n",
            "AI's guess is: 16\n",
            "Enter 'h' if too high, 'l' if too low, or 'c' if correct: l\n",
            "AI's guess is: 25\n",
            "Enter 'h' if too high, 'l' if too low, or 'c' if correct: h\n",
            "AI's guess is: 22\n",
            "Enter 'h' if too high, 'l' if too low, or 'c' if correct: c\n",
            "I (AI) guessed the number in 6 attempts!\n"
          ]
        }
      ]
    },
    {
      "cell_type": "markdown",
      "source": [
        "##3. Ternary Search\n",
        "Ternary search divides the range into three parts, which can be more efficient than linear search but less efficient than binary search."
      ],
      "metadata": {
        "id": "6iSqHpulyzoB"
      }
    },
    {
      "cell_type": "code",
      "source": [
        "def ternary_search_number_guessing_game():\n",
        "    print(\"Think of a number between 1 and 100, and I (the AI) will try to guess it.\")\n",
        "\n",
        "    low, high = 1, 100\n",
        "    attempts = 0\n",
        "\n",
        "    # Loop until the AI guesses the number correctly\n",
        "    while low <= high:\n",
        "        # Divide the range into three parts\n",
        "        mid1 = low + (high - low) // 3\n",
        "        mid2 = high - (high - low) // 3\n",
        "        attempts += 1\n",
        "\n",
        "        # Make a guess in the first third\n",
        "        print(f\"AI's guess is: {mid1}\")\n",
        "        feedback = input(\"Enter 'h' if too high, 'l' if too low, or 'c' if correct: \").lower()\n",
        "\n",
        "        if feedback == 'c':\n",
        "            print(f\"I (AI) guessed the number in {attempts} attempts using Ternary Search!\")\n",
        "            return\n",
        "        elif feedback == 'h':\n",
        "            high = mid1 - 1  # Narrow down the range to the lower third\n",
        "        elif feedback == 'l':\n",
        "            # Make a guess in the second third if the first is too low\n",
        "            print(f\"AI's guess is: {mid2}\")\n",
        "            attempts += 1\n",
        "            feedback = input(\"Enter 'h' if too high, 'l' if too low, or 'c' if correct: \").lower()\n",
        "\n",
        "            if feedback == 'c':\n",
        "                print(f\"I (AI) guessed the number in {attempts} attempts using Ternary Search!\")\n",
        "                return\n",
        "            elif feedback == 'h':\n",
        "                high = mid2 - 1  # Narrow down to the middle third\n",
        "            elif feedback == 'l':\n",
        "                low = mid2 + 1  # Narrow down to the upper third\n",
        "\n",
        "    print(\"Something went wrong!\")\n",
        "\n",
        "# Run the Ternary Search version\n",
        "ternary_search_number_guessing_game()"
      ],
      "metadata": {
        "colab": {
          "base_uri": "https://localhost:8080/"
        },
        "id": "3twARCOFy_Lh",
        "outputId": "fc8b4fba-27f5-4798-f133-a42b91ea08af"
      },
      "execution_count": 20,
      "outputs": [
        {
          "output_type": "stream",
          "name": "stdout",
          "text": [
            "Think of a number between 1 and 100, and I (the AI) will try to guess it.\n",
            "AI's guess is: 34\n",
            "Enter 'h' if too high, 'l' if too low, or 'c' if correct: l\n",
            "AI's guess is: 67\n",
            "Enter 'h' if too high, 'l' if too low, or 'c' if correct: h\n",
            "AI's guess is: 22\n",
            "Enter 'h' if too high, 'l' if too low, or 'c' if correct: l\n",
            "AI's guess is: 45\n",
            "Enter 'h' if too high, 'l' if too low, or 'c' if correct: h\n",
            "AI's guess is: 15\n",
            "Enter 'h' if too high, 'l' if too low, or 'c' if correct: l\n",
            "AI's guess is: 30\n",
            "Enter 'h' if too high, 'l' if too low, or 'c' if correct: l\n",
            "AI's guess is: 35\n",
            "Enter 'h' if too high, 'l' if too low, or 'c' if correct: c\n",
            "I (AI) guessed the number in 7 attempts using Ternary Search!\n"
          ]
        }
      ]
    },
    {
      "cell_type": "markdown",
      "source": [
        "##How ternary search works:\n",
        "Ternary search is a divide-and-conquer algorithm that splits a range into three parts and uses the results to narrow down the search space. In the context of the number guessing game, ternary search is used to guess the number the user is thinking of by systematically dividing the search range into thirds and adjusting the bounds based on feedback.\n",
        "\n",
        "##Conclusion\n",
        "Among DFS, BFS,binary and Ternary Search:\n",
        "\n",
        "-Ternary Search is the most efficient after binary search for this problem, with its logarithmic time complexity.\n",
        "\n",
        "-DFS and BFS are less efficient due to their higher time complexities and potentially more guesses needed.\n",
        "\n",
        "-DFS might be slower due to the sequential guessing and adjusting bounds.\n",
        "\n",
        "-BFS can be better than DFS in systematically covering possibilities but still has additional overhead.\n",
        "\n",
        "-Ternary Search offers a better balance between efficiency and implementation complexity compared to DFS and BFS for this guessing game."
      ],
      "metadata": {
        "id": "gH3FWQqM3l2A"
      }
    },
    {
      "cell_type": "markdown",
      "source": [],
      "metadata": {
        "id": "msxnJOvl23S8"
      }
    }
  ]
}